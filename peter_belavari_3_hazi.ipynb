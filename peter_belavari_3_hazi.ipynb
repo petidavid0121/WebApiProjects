{
  "cells": [
    {
      "cell_type": "markdown",
      "id": "de46e0c2",
      "metadata": {
        "id": "de46e0c2"
      },
      "source": [
        "# Feladatleírás\n",
        "\n",
        "A mellékelt adathalmaz az Amazonon elérhető laptopok adatait tartalmazza.\n",
        "\n",
        "Felelősségek lebontása:\n",
        "\n",
        "<ul><li>Adatfeldolgozás\n",
        "<li>Modellezés\n",
        "<li>Prototipizálás / teszelés</ul>\n",
        "\n",
        "Főbb megválaszolandó kérdések:\n",
        "<ul>\n",
        "<li>Mik az árak szélsőértékei, átlaga, mediánja, szórása?\n",
        "<li>Hányféle CPU architektúra található meg az adathalmazban?\n",
        "<li>Mik az árak szélsőértékei, átlaga, mediánja, szórása a különböző cpu architektúrákra nézve?\n",
        "<li>Lineáris modell segítségével megjósolható-e egyedül a harddisk méret és a ram mérete alapján a készülék ára? Javítható-e a becslés ha figyelembe veszünk más paramétert is?\n",
        "<li>Nagyjából azonos paramétereket (cpu, gpu, ram, stb.) feltételezve van-e összefüggés a gyártó és az ár között?</ul>"
      ]
    },
    {
      "cell_type": "code",
      "execution_count": null,
      "id": "3e2f6d23",
      "metadata": {
        "id": "3e2f6d23"
      },
      "outputs": [],
      "source": [
        "import pandas as pd\n",
        "import numpy as np\n",
        "import matplotlib.pyplot as plt"
      ]
    },
    {
      "cell_type": "code",
      "execution_count": null,
      "id": "32139ae4",
      "metadata": {
        "id": "32139ae4",
        "outputId": "a6009e78-8212-420a-cdca-a35a961cda85"
      },
      "outputs": [
        {
          "name": "stdout",
          "output_type": "stream",
          "text": [
            "   brand                  model   screen_size       color harddisk  \\\n",
            "0   ROKC                    NaN     14 Inches        Blue  1000 GB   \n",
            "1     HP                    NaN   15.6 Inches      Silver  1000 GB   \n",
            "2    MSI  Vector GP66 12UGS-267  15.66 Inches  Core Black      NaN   \n",
            "3  Apple            MacBook Air   13.3 Inches      Silver   256 GB   \n",
            "4  Apple            MacBook Air   15.3 Inches    Midnight   256 GB   \n",
            "\n",
            "             cpu    ram               OS  special_features    graphics  \\\n",
            "0  Intel Core i7   8 GB       Windows 11               NaN  Integrated   \n",
            "1  Intel Core i5  64 GB   Windows 11 Pro  Backlit Keyboard  Integrated   \n",
            "2  Intel Core i9  32 GB  Windows 11 Home               NaN   Dedicated   \n",
            "3        Unknown   8 GB           Mac OS  Backlit Keyboard  Integrated   \n",
            "4        Unknown   8 GB           Mac OS               NaN  Integrated   \n",
            "\n",
            "  graphics_coprocessor cpu_speed  rating       price  \n",
            "0                Intel   1.2 GHz     NaN    $589.99   \n",
            "1                Intel       NaN     4.5    $999.99   \n",
            "2                  NaN   1.8 GHz     5.0  $1,599.00   \n",
            "3                  NaN       NaN     4.8    $689.99   \n",
            "4                  NaN       NaN     4.8  $1,144.48   \n"
          ]
        }
      ],
      "source": [
        "# Adatok betöltése\n",
        "file_path = 'laptop_prices.csv'  # Az adathalmaz elérési útvonala\n",
        "data = pd.read_csv(file_path)\n",
        "\n",
        "# Az adatok első néhány sorának megtekintése\n",
        "print(data.head())"
      ]
    },
    {
      "cell_type": "markdown",
      "id": "a92ebc8e",
      "metadata": {
        "id": "a92ebc8e"
      },
      "source": [
        "## 1) Árak statiszikai jellemzői"
      ]
    },
    {
      "cell_type": "code",
      "execution_count": null,
      "id": "4d6f3f3f",
      "metadata": {
        "id": "4d6f3f3f",
        "outputId": "bd65d7e9-e806-47c3-c799-9af59fe21d13"
      },
      "outputs": [
        {
          "name": "stdout",
          "output_type": "stream",
          "text": [
            "Árak statisztikái:\n",
            "    maximum = 11261.24, \n",
            "    minimum = 57.99, \n",
            "    átlag   = 1189.33, \n",
            "    medián  = 999.99,\n",
            "    szórás  = 826.02\n"
          ]
        },
        {
          "data": {
            "image/png": "[encoded data removed]",
            "text/plain": [
              "<Figure size 700x500 with 1 Axes>"
            ]
          },
          "metadata": {},
          "output_type": "display_data"
        }
      ],
      "source": [
        "# Tisztítjuk az ár oszlopot, eltávolítjuk a nem numerikus karaktereket, és átalakítjuk numerikus adattá\n",
        "data['price'] = data['price'].replace('[\\$,]', '', regex=True).astype(float)\n",
        "\n",
        "# Alapvető statisztikai elemzések az árakra\n",
        "price_stats = {\n",
        "    \"min\": data['price'].min(),\n",
        "    \"max\": data['price'].max(),\n",
        "    \"mean\": data['price'].mean(),\n",
        "    \"median\": data['price'].median(),\n",
        "    \"std\": data['price'].std()\n",
        "}\n",
        "\n",
        "print(f\"\"\"Árak statisztikái:\n",
        "    maximum = {price_stats['max']},\n",
        "    minimum = {price_stats['min']},\n",
        "    átlag   = {round(price_stats['mean'], 2)},\n",
        "    medián  = {price_stats['median']},\n",
        "    szórás  = {round(price_stats['std'], 2)}\"\"\")\n",
        "\n",
        "# Boxplot készítése az árak eloszlásának vizsgálatához\n",
        "plt.figure(figsize=(7, 5))\n",
        "plt.boxplot(data['price'].dropna(), vert=True, patch_artist=True,\n",
        "            boxprops=dict(facecolor='lightblue'),\n",
        "            medianprops=dict(color='red'),\n",
        "            widths=0.5)\n",
        "\n",
        "# Feliratok hozzáadása a boxplothoz\n",
        "plt.annotate(f\"Min: ${price_stats['min']}\", xy=(1, price_stats['min']), xytext=(0.51, price_stats['min']),\n",
        "             fontsize=10, color='black')\n",
        "plt.annotate(f\"Max: ${price_stats['max']}\", xy=(1, price_stats['max']), xytext=(0.51, price_stats['max']),\n",
        "             fontsize=10, color='black')\n",
        "plt.annotate(f\"Median: ${price_stats['median']}\", xy=(1, price_stats['median']), xytext=(0.51, price_stats['median']),\n",
        "             fontsize=10, color='red')\n",
        "\n",
        "plt.title('Árak eloszlása')\n",
        "plt.ylabel('Ár ($)')\n",
        "plt.xticks([1], ['Laptopok ára'])\n",
        "plt.show()"
      ]
    },
    {
      "cell_type": "markdown",
      "id": "26c69c12",
      "metadata": {
        "id": "26c69c12"
      },
      "source": [
        "## 2) Különböző CPU architektúrák száma"
      ]
    },
    {
      "cell_type": "code",
      "execution_count": null,
      "id": "9b160bf4",
      "metadata": {
        "id": "9b160bf4",
        "outputId": "efa05163-0a17-4dd7-bbec-f44a0f174d60"
      },
      "outputs": [
        {
          "name": "stdout",
          "output_type": "stream",
          "text": [
            "Különböző CPU architektúrák száma: 141 db\n"
          ]
        }
      ],
      "source": [
        "# Egyedi CPU értékek megszámolása\n",
        "cpu_architectures = data['cpu'].nunique()\n",
        "print(\"Különböző CPU architektúrák száma:\", cpu_architectures, \"db\")"
      ]
    },
    {
      "cell_type": "markdown",
      "id": "f9446a66",
      "metadata": {
        "id": "f9446a66"
      },
      "source": [
        "## 3) Árak statisztikai jellemzői CPU architektúrák szerint"
      ]
    },
    {
      "cell_type": "code",
      "execution_count": null,
      "id": "ebabe378",
      "metadata": {
        "vscode": {
          "languageId": "groovy"
        },
        "id": "ebabe378",
        "outputId": "d2d486e2-34a6-47a7-d0bc-7689f3546b3c"
      },
      "outputs": [
        {
          "name": "stdout",
          "output_type": "stream",
          "text": [
            "Árak statisztikai jellemzői CPU architektúrák szerint csoportosítva:\n",
            "                                 min      max         mean    median  \\\n",
            "cpu                                                                    \n",
            "1.2GHz Cortex A13 Processor   743.92   743.92   743.920000   743.920   \n",
            "1.2GHz Cortex A8 Processor    129.99  1194.77   621.536667   609.495   \n",
            "68000                        1149.00  1149.00  1149.000000  1149.000   \n",
            "8032                          228.00  1999.00  1163.965789  1288.880   \n",
            "A-Series                      253.46   399.99   326.725000   326.725   \n",
            "\n",
            "                                    std  \n",
            "cpu                                      \n",
            "1.2GHz Cortex A13 Processor         NaN  \n",
            "1.2GHz Cortex A8 Processor   370.930518  \n",
            "68000                               NaN  \n",
            "8032                         580.103479  \n",
            "A-Series                     103.612357  \n"
          ]
        }
      ],
      "source": [
        "# Táblázat készítése az árak statisztikai jellemzőiről CPU architektúrák szerint\n",
        "cpu_price_stats = data.groupby('cpu')['price'].agg(['min', 'max', 'mean', 'median', 'std'])\n",
        "\n",
        "print(\"Árak statisztikai jellemzői CPU architektúrák szerint csoportosítva:\")\n",
        "print(cpu_price_stats.head())"
      ]
    },
    {
      "cell_type": "markdown",
      "id": "2f3bb55c",
      "metadata": {
        "id": "2f3bb55c"
      },
      "source": [
        "## 4) Lineáris modell az ár jóslására"
      ]
    },
    {
      "cell_type": "code",
      "execution_count": null,
      "id": "fabe86e6",
      "metadata": {
        "id": "fabe86e6"
      },
      "outputs": [],
      "source": [
        "from sklearn.linear_model import LinearRegression\n",
        "from sklearn.model_selection import train_test_split\n",
        "from sklearn.metrics import mean_squared_error"
      ]
    },
    {
      "cell_type": "code",
      "execution_count": null,
      "id": "03cf26bf",
      "metadata": {
        "id": "03cf26bf"
      },
      "outputs": [],
      "source": [
        "data['harddisk'] = data['harddisk'].str.replace(r'[^\\d\\.]', '', regex=True)\n",
        "data['ram'] = data['ram'].str.replace(r'[^\\d\\.]', '', regex=True)\n",
        "\n",
        "# Konvertáljuk a 'harddisk' és 'ram' oszlopokat numerikus adattá\n",
        "data['harddisk'] = pd.to_numeric(data['harddisk'], errors='coerce')\n",
        "data['ram'] = pd.to_numeric(data['ram'], errors='coerce')"
      ]
    },
    {
      "cell_type": "code",
      "execution_count": null,
      "id": "25f1f1ce",
      "metadata": {
        "id": "25f1f1ce",
        "outputId": "ad7da08f-0ef6-4165-afa0-e07a1d439c90"
      },
      "outputs": [
        {
          "name": "stdout",
          "output_type": "stream",
          "text": [
            "Átlagos négyzetes hiba: 663822.76\n",
            "Metszéspont: 683.73\n",
            "Együtthatók: \n",
            "    harddisk: 0.04 \n",
            "    ram: 18.77\n"
          ]
        }
      ],
      "source": [
        "# Kiválasztjuk a releváns oszlopokat, és eltávolítjuk a hiányzó értékeket\n",
        "df_model = data[['price', 'harddisk', 'ram']].dropna()\n",
        "\n",
        "# Meghatározzuk a független változókat (X) és a függő változót (y)\n",
        "X = df_model[['harddisk', 'ram']]\n",
        "y = df_model['price']\n",
        "\n",
        "# Felosztjuk az adatokat tanító- és tesztkészletre\n",
        "X_train, X_test, y_train, y_test = train_test_split(X, y, test_size=0.2, random_state=42)\n",
        "\n",
        "# Létrehozunk egy lineáris regressziós modellt\n",
        "model = LinearRegression()\n",
        "\n",
        "# Betanítjuk a modellt a tanítókészleten\n",
        "model.fit(X_train, y_train)\n",
        "\n",
        "# Előrejelzéseket készítünk a tesztkészleten\n",
        "y_pred = model.predict(X_test)\n",
        "\n",
        "# Kiértékeljük a modell teljesítményét\n",
        "mse = mean_squared_error(y_test, y_pred)\n",
        "print(f'Átlagos négyzetes hiba: {round(mse, 2)}')\n",
        "\n",
        "# Megvizsgáljuk a modell együtthatóit\n",
        "print(f'Metszéspont: {round(model.intercept_, 2)}')\n",
        "print(f'''Együtthatók:\n",
        "    harddisk: {round(model.coef_[0], 2)}\n",
        "    ram: {round(model.coef_[1],2)}''')"
      ]
    },
    {
      "cell_type": "markdown",
      "id": "25656490",
      "metadata": {
        "id": "25656490"
      },
      "source": [
        "### válasz:\n",
        "A harddisk méret és a RAM mérete nem elegendő a laptop árának pontos előrejelzéséhez. Bár van némi kapcsolat, a magas MSE érték és az alacsony együtthatók arra utalnak, hogy más tényezők (pl. CPU, GPU, márka, kijelző méret stb.) is jelentős szerepet játszanak az ár meghatározásában. A modell pontossága javítható lenne, ha további releváns változókat is figyelembe vennénk."
      ]
    },
    {
      "cell_type": "markdown",
      "source": [
        "## 5) Gyártó és ár közötti összefüggés"
      ],
      "metadata": {
        "id": "TiAWnabZ7Igu"
      },
      "id": "TiAWnabZ7Igu"
    },
    {
      "cell_type": "code",
      "source": [
        "import pandas as pd\n",
        "import numpy as np\n",
        "\n",
        "# Adat betöltése\n",
        "df = pd.read_csv('laptop_prices.csv')"
      ],
      "metadata": {
        "id": "JihQVSgR7Rp7"
      },
      "id": "JihQVSgR7Rp7",
      "execution_count": null,
      "outputs": []
    }
  ],
  "metadata": {
    "kernelspec": {
      "display_name": "base",
      "language": "python",
      "name": "python3"
    },
    "language_info": {
      "codemirror_mode": {
        "name": "ipython",
        "version": 3
      },
      "file_extension": ".py",
      "mimetype": "text/x-python",
      "name": "python",
      "nbconvert_exporter": "python",
      "pygments_lexer": "ipython3",
      "version": "3.10.9"
    },
    "colab": {
      "provenance": []
    }
  },
  "nbformat": 4,
  "nbformat_minor": 5
}